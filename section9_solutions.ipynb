{
 "cells": [
  {
   "cell_type": "markdown",
   "id": "57ecc607",
   "metadata": {},
   "source": [
    "#### Assignment: For Loops"
   ]
  },
  {
   "cell_type": "code",
   "execution_count": null,
   "id": "59ff72ae",
   "metadata": {},
   "outputs": [],
   "source": [
    "subtotals = [15.98, 899.97, 799.97, 117.96, 5.99, 599.99, 24.99, 1799.94, 99.99]\n",
    "\n",
    "# create empty lists to store taxes and totals\n",
    "taxes = []\n",
    "totals = []\n",
    "\n",
    "# loop through subtotals\n",
    "for subtotal in subtotals:\n",
    "    # calculate tax and subtotal\n",
    "    tax = round(subtotal * 0.08, 2)\n",
    "    total = round(subtotal + tax, 2)\n",
    "    # append tax to taxes list, and total to totals\n",
    "    taxes.append(tax)\n",
    "    totals.append(total)\n",
    "\n",
    "print(taxes)\n",
    "print(totals)"
   ]
  },
  {
   "cell_type": "markdown",
   "id": "cad6ade2",
   "metadata": {},
   "source": [
    "#### Assignment: Enumerate"
   ]
  },
  {
   "cell_type": "code",
   "execution_count": null,
   "id": "976ad3a1",
   "metadata": {},
   "outputs": [],
   "source": [
    "subtotals = [\n",
    "    15.98, 899.97, 799.97, 117.96, 5.99, \n",
    "    599.99, 24.99, 1799.94, 99.99\n",
    "]\n",
    "\n",
    "location = [\n",
    "    'Sun Valley', 'Stowe', 'Mammoth', 'Stowe', 'Sun Valley', \n",
    "    'Mammoth','Mammoth', 'Mammoth', 'Sun Valley'\n",
    "]"
   ]
  },
  {
   "cell_type": "code",
   "execution_count": null,
   "id": "0c4826e2",
   "metadata": {},
   "outputs": [],
   "source": [
    "taxes = []\n",
    "totals = []\n",
    "\n",
    "for index, subtotal in enumerate(subtotals):\n",
    "    # Use conditional logic to apply location based tax\n",
    "    if location[index] == 'Sun Valley':\n",
    "        tax = round(subtotal * 0.08, 2)\n",
    "    elif location[index] == 'Stowe':\n",
    "        tax = round(subtotal * 0.06, 2)\n",
    "    else:\n",
    "        tax = round(subtotal * 0.0775, 2)\n",
    "        \n",
    "    total = round(subtotal + tax, 2)\n",
    "    \n",
    "    taxes.append(tax)\n",
    "    totals.append(total)\n",
    "\n",
    "print(taxes)\n",
    "print(totals)"
   ]
  },
  {
   "cell_type": "markdown",
   "id": "eb0ce0dc",
   "metadata": {},
   "source": [
    "#### Assignment: While Loops"
   ]
  },
  {
   "cell_type": "code",
   "execution_count": null,
   "id": "7837c388",
   "metadata": {},
   "outputs": [],
   "source": [
    "inventory = 686\n",
    "monthly_sales = 84\n",
    "month = 0\n",
    "\n",
    "# Keep running loop as long as inventory is positive\n",
    "while inventory > 0:\n",
    "    # Deduct monthly sales from inventory each month\n",
    "    inventory -= monthly_sales\n",
    "    # increment month to count elapsed time\n",
    "    month += 1\n",
    "    print(f\"At the end of month {month}, we have {inventory} pairs of skis.\")"
   ]
  },
  {
   "cell_type": "markdown",
   "id": "209f89a0",
   "metadata": {},
   "source": [
    "#### Assignment: Nested Loops"
   ]
  },
  {
   "cell_type": "code",
   "execution_count": null,
   "id": "4602848a",
   "metadata": {},
   "outputs": [],
   "source": [
    "# Create multi_order_customers list\n",
    "\n",
    "multi_order_customers = [\n",
    "    [1799.94, 29.98, 99.99],\n",
    "    [15.98, 119.99],\n",
    "    [24.99, 24.99],\n",
    "    [649.99, 99.99],\n",
    "    [599.99, 399.97],\n",
    "]\n",
    "\n",
    "multi_order_customers"
   ]
  },
  {
   "cell_type": "code",
   "execution_count": null,
   "id": "f1d0caaf",
   "metadata": {},
   "outputs": [],
   "source": [
    "# Apply Discounts to each transaction\n",
    "# Create a new discounted prices list\n",
    "discounted_prices = []\n",
    "\n",
    "# Loop through each element in multi order customers\n",
    "for customer in multi_order_customers:\n",
    "    # create a new nested list\n",
    "    customer_discounts = []\n",
    "    # loop through individual transactions\n",
    "    for transaction in customer:\n",
    "        # apply discounts to each transaction and append to nested_list\n",
    "        customer_discounts.append(round(transaction * 0.9, 2))\n",
    "    # append nested list to outer discounted_prices list\n",
    "    discounted_prices.append(customer_discounts)\n",
    "\n",
    "discounted_prices"
   ]
  },
  {
   "cell_type": "markdown",
   "id": "7839fb33",
   "metadata": {},
   "source": [
    "#### Assignment: Loop Control\n",
    "\n",
    "This assigment is less about becoming proficient with try-except and more about understanding the basics about how these work. In general we should clean our data as opposed to complex try-except logic. Don't worry if you didn't get this solution - having a general idea of these statements will help you debug some errors when using external functions."
   ]
  },
  {
   "cell_type": "code",
   "execution_count": 2,
   "id": "f6948401",
   "metadata": {},
   "outputs": [
    {
     "name": "stdout",
     "output_type": "stream",
     "text": [
      "I can buy 8.0 of these.\n",
      "I can buy 2.0 of these.\n",
      "I can buy 2.0 of these.\n",
      "This product is free, I can take as many as I like.\n",
      "string data detected\n",
      "I can buy 0.0 of these.\n",
      "I can buy 0.0 of these.\n"
     ]
    }
   ],
   "source": [
    "price_list = [5.99, None, 19.99, 24.99, 0, '74.99', 99.99]\n",
    "\n",
    "# Create Budget Variable\n",
    "budget = 50\n",
    "\n",
    "for price in price_list:\n",
    "    if price is None:  # is keyword to test for none\n",
    "        continue\n",
    "    try:\n",
    "        affordable_quantity = budget // price\n",
    "        print(f\"I can buy {affordable_quantity} of these.\")\n",
    "    # If we get a ZeroDivisionError, print a special message\n",
    "    except ZeroDivisionError:\n",
    "        print(\"This product is free, I can take as many as I like.\")\n",
    "    # If TypeError, try converting to float\n",
    "    except TypeError:\n",
    "        affordable_quantity = budget // float(price)\n",
    "        print('string data detected')  ## let user know improper data detected\n",
    "        print(f\"I can buy {affordable_quantity} of these.\")"
   ]
  }
 ],
 "metadata": {
  "kernelspec": {
   "display_name": "Python 3 (ipykernel)",
   "language": "python",
   "name": "python3"
  },
  "language_info": {
   "codemirror_mode": {
    "name": "ipython",
    "version": 3
   },
   "file_extension": ".py",
   "mimetype": "text/x-python",
   "name": "python",
   "nbconvert_exporter": "python",
   "pygments_lexer": "ipython3",
   "version": "3.9.7"
  }
 },
 "nbformat": 4,
 "nbformat_minor": 5
}
