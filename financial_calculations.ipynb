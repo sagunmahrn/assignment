{
 "cells": [
  {
   "attachments": {},
   "cell_type": "markdown",
   "id": "afeff7d2",
   "metadata": {},
   "source": [
    "### 1. Calculate the gross profit on our snowboard\n",
    "\n",
    "Formula: Price minus cost\n"
   ]
  },
  {
   "cell_type": "code",
   "execution_count": 1,
   "id": "fbdecd04",
   "metadata": {},
   "outputs": [
    {
     "name": "stdout",
     "output_type": "stream",
     "text": [
      "300.0\n"
     ]
    }
   ],
   "source": [
    "snowboard_price = 499.99\n",
    "snowboard_cost = 199.99\n",
    "gross_profit = snowboard_price - snowboard_cost\n",
    "print(gross_profit)"
   ]
  },
  {
   "attachments": {},
   "cell_type": "markdown",
   "id": "f812ebf7",
   "metadata": {},
   "source": [
    "### 2. Calculate the gross margin on our snowboard\n",
    "\n",
    "Formula: Gross profit divided by price"
   ]
  },
  {
   "cell_type": "code",
   "execution_count": 2,
   "id": "9fec0a0d",
   "metadata": {},
   "outputs": [
    {
     "name": "stdout",
     "output_type": "stream",
     "text": [
      "0.6000120002400048\n"
     ]
    }
   ],
   "source": [
    "gross_margin = gross_profit / snowboard_price\n",
    "print(gross_margin)"
   ]
  },
  {
   "attachments": {},
   "cell_type": "markdown",
   "id": "ecb4a248",
   "metadata": {},
   "source": [
    "### 3. Calculate the price needed to obtain a gross margin of 70%\n",
    "\n",
    "Formula:  cost divided by (1 minus the desired margin)."
   ]
  },
  {
   "cell_type": "code",
   "execution_count": 3,
   "id": "ef85028e",
   "metadata": {},
   "outputs": [
    {
     "name": "stdout",
     "output_type": "stream",
     "text": [
      "666.6333333333332\n"
     ]
    }
   ],
   "source": [
    "price_needed_for70 = snowboard_cost/(1-0.70)\n",
    "print(price_needed_for70)"
   ]
  },
  {
   "attachments": {},
   "cell_type": "markdown",
   "id": "bdf79354",
   "metadata": {},
   "source": [
    "### 4. Calculate the sales tax on a sale of our snowboard\n",
    "\n",
    "Tax rate: 8%\n",
    "\n",
    "Formula: Price times tax rate"
   ]
  },
  {
   "cell_type": "code",
   "execution_count": 11,
   "id": "9a00eb4d",
   "metadata": {},
   "outputs": [
    {
     "name": "stdout",
     "output_type": "stream",
     "text": [
      "39\n"
     ]
    }
   ],
   "source": [
    "tax_rate = .08\n",
    "sales_tax = snowboard_price * tax_rate\n",
    "print(int(sales_tax))\n"
   ]
  },
  {
   "attachments": {},
   "cell_type": "markdown",
   "id": "948e0099",
   "metadata": {},
   "source": [
    "### 5. Return on Profits\n",
    "\n",
    "Calculate the amount of money we'd have if we invested the profit from selling 5 snowboards for one year.\n",
    "\n",
    "Assume an interest rate of 5%.\n",
    "\n",
    "The formula is the amount_invested plus  (amount_invested times interest_rate)"
   ]
  },
  {
   "cell_type": "code",
   "execution_count": 9,
   "id": "770afcbd",
   "metadata": {},
   "outputs": [
    {
     "name": "stdout",
     "output_type": "stream",
     "text": [
      "1575.0\n"
     ]
    }
   ],
   "source": [
    "amount_invested = 5 * gross_profit\n",
    "interest_rate = .05\n",
    "amount_after_1yr = amount_invested + (amount_invested * interest_rate)\n",
    "print(amount_after_1yr)"
   ]
  },
  {
   "cell_type": "code",
   "execution_count": null,
   "id": "4f398a56",
   "metadata": {},
   "outputs": [],
   "source": []
  }
 ],
 "metadata": {
  "kernelspec": {
   "display_name": "Python 3 (ipykernel)",
   "language": "python",
   "name": "python3"
  },
  "language_info": {
   "codemirror_mode": {
    "name": "ipython",
    "version": 3
   },
   "file_extension": ".py",
   "mimetype": "text/x-python",
   "name": "python",
   "nbconvert_exporter": "python",
   "pygments_lexer": "ipython3",
   "version": "3.10.7"
  }
 },
 "nbformat": 4,
 "nbformat_minor": 5
}
