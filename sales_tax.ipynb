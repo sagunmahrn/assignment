{
 "cells": [
  {
   "attachments": {},
   "cell_type": "markdown",
   "id": "baacb0f7",
   "metadata": {},
   "source": [
    "### Sales Tax\n",
    "\n",
    "We need to calculate the sales taxes for our customer that made three transactions in `multi_order_customers` below.\n",
    "\n",
    "(The customer that made three transactions was customer C00001). Run this cell to create the list."
   ]
  },
  {
   "cell_type": "code",
   "execution_count": 1,
   "id": "917a7e1f",
   "metadata": {},
   "outputs": [],
   "source": [
    "multi_order_customers = [\n",
    "    [1799.94, 29.98, 99.99],\n",
    "    [15.98, 119.99],\n",
    "    [24.99, 24.99],\n",
    "    [649.99, 99.99],\n",
    "    [599.99, 399.97]\n",
    "]"
   ]
  },
  {
   "attachments": {},
   "cell_type": "markdown",
   "id": "24d3b042",
   "metadata": {},
   "source": [
    "Create a tuple from the first element in the `multi_order_customers`.\n",
    "\n",
    "Unpack this tuple into the variables `transaction1`, `transaction2`, and `transaction3`.\n",
    "\n",
    "Once you've have separated the transactions, calculate the tax of .08 rounded to 2 decimals and print it."
   ]
  },
  {
   "cell_type": "code",
   "execution_count": 3,
   "id": "01a35ffc",
   "metadata": {},
   "outputs": [],
   "source": [
    "tuple1 = tuple(multi_order_customers[0])"
   ]
  },
  {
   "cell_type": "code",
   "execution_count": 5,
   "id": "5d429089",
   "metadata": {},
   "outputs": [
    {
     "data": {
      "text/plain": [
       "(1799.94, 29.98, 99.99)"
      ]
     },
     "execution_count": 5,
     "metadata": {},
     "output_type": "execute_result"
    }
   ],
   "source": [
    "transaction1,transaction2,transaction3 = tuple1\n",
    "tuple1"
   ]
  },
  {
   "cell_type": "code",
   "execution_count": 12,
   "id": "0218607a",
   "metadata": {},
   "outputs": [
    {
     "data": {
      "text/plain": [
       "8.0"
      ]
     },
     "execution_count": 12,
     "metadata": {},
     "output_type": "execute_result"
    }
   ],
   "source": [
    "trans1 = round(transaction1 * .08,2)\n",
    "trans2 = round(transaction2 * .08,2)\n",
    "trans3 = round(transaction3 * .08,2)\n",
    "\n"
   ]
  },
  {
   "cell_type": "code",
   "execution_count": 14,
   "id": "a462e9ec",
   "metadata": {},
   "outputs": [
    {
     "name": "stdout",
     "output_type": "stream",
     "text": [
      "144.0\n",
      "2.4\n",
      "8.0\n"
     ]
    }
   ],
   "source": [
    "print(trans1)\n",
    "print(trans2)\n",
    "print(trans3)"
   ]
  }
 ],
 "metadata": {
  "kernelspec": {
   "display_name": "Python 3 (ipykernel)",
   "language": "python",
   "name": "python3"
  },
  "language_info": {
   "codemirror_mode": {
    "name": "ipython",
    "version": 3
   },
   "file_extension": ".py",
   "mimetype": "text/x-python",
   "name": "python",
   "nbconvert_exporter": "python",
   "pygments_lexer": "ipython3",
   "version": "3.10.7"
  }
 },
 "nbformat": 4,
 "nbformat_minor": 5
}
