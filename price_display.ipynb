{
 "cells": [
  {
   "attachments": {},
   "cell_type": "markdown",
   "id": "2ade6431",
   "metadata": {},
   "source": [
    "### Price Display Message\n",
    "\n",
    "Using f-strings, print 'The *product* costs $*price*.' for each of the price/product combinations below.\n",
    "\n",
    "Your print statement should be identical for both."
   ]
  },
  {
   "cell_type": "code",
   "execution_count": 4,
   "id": "c40b200f",
   "metadata": {},
   "outputs": [
    {
     "name": "stdout",
     "output_type": "stream",
     "text": [
      "The snowboard costs $499.99.\n"
     ]
    }
   ],
   "source": [
    "price = 499.99\n",
    "product = 'snowboard'\n",
    "\n",
    "# your print statement here\n",
    "print(f'The {product} costs ${price}.')"
   ]
  },
  {
   "cell_type": "code",
   "execution_count": 5,
   "id": "fff5ca9b",
   "metadata": {},
   "outputs": [
    {
     "name": "stdout",
     "output_type": "stream",
     "text": [
      "The scarf costs $19.99\n"
     ]
    }
   ],
   "source": [
    "price = 19.99\n",
    "product = 'scarf'\n",
    "\n",
    "# exact copy of print statement in first cell \n",
    "print(f'The {product} costs ${price}.')"
   ]
  },
  {
   "cell_type": "code",
   "execution_count": null,
   "id": "33c773be",
   "metadata": {},
   "outputs": [],
   "source": []
  }
 ],
 "metadata": {
  "kernelspec": {
   "display_name": "Python 3 (ipykernel)",
   "language": "python",
   "name": "python3"
  },
  "language_info": {
   "codemirror_mode": {
    "name": "ipython",
    "version": 3
   },
   "file_extension": ".py",
   "mimetype": "text/x-python",
   "name": "python",
   "nbconvert_exporter": "python",
   "pygments_lexer": "ipython3",
   "version": "3.10.7"
  }
 },
 "nbformat": 4,
 "nbformat_minor": 5
}
