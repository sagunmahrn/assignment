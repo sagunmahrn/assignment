{
 "cells": [
  {
   "cell_type": "markdown",
   "id": "7f7e2dec",
   "metadata": {},
   "source": [
    "Note that list formatting will look a bit different here than in solutions.\n",
    "\n",
    "Don't worry too much about this, we rarely create big lists like these from scratch as analysts."
   ]
  },
  {
   "cell_type": "markdown",
   "id": "86d5dc39",
   "metadata": {},
   "source": [
    "#### Assignment: List Operations"
   ]
  },
  {
   "cell_type": "code",
   "execution_count": 1,
   "id": "14946d4f",
   "metadata": {},
   "outputs": [
    {
     "data": {
      "text/plain": [
       "['C00001',\n",
       " 'C00003',\n",
       " 'C00004',\n",
       " 'C00005',\n",
       " 'C00006',\n",
       " 'C00007',\n",
       " 'C00018',\n",
       " 'C00010',\n",
       " 'C00013',\n",
       " 'C00014',\n",
       " 'C00015',\n",
       " 'C00016',\n",
       " 'C00029']"
      ]
     },
     "execution_count": 1,
     "metadata": {},
     "output_type": "execute_result"
    }
   ],
   "source": [
    "# Create Customer List\n",
    "customer_list = [\n",
    "    'C00001', 'C00003', 'C00004', 'C00005', 'C00006', \n",
    "    'C00007', 'C00018', 'C00010', 'C00013', 'C00014', \n",
    "    'C00015', 'C00016', 'C00029'\n",
    "]\n",
    "\n",
    "customer_list"
   ]
  },
  {
   "cell_type": "code",
   "execution_count": 2,
   "id": "f64cd823",
   "metadata": {},
   "outputs": [
    {
     "data": {
      "text/plain": [
       "0.0"
      ]
     },
     "execution_count": 2,
     "metadata": {},
     "output_type": "execute_result"
    }
   ],
   "source": [
    "# Return 99.99 if customer 'C00009' mad a purchase\n",
    "\n",
    "('C00009' in customer_list) * 99.99"
   ]
  },
  {
   "cell_type": "code",
   "execution_count": 3,
   "id": "941b3372",
   "metadata": {},
   "outputs": [
    {
     "data": {
      "text/plain": [
       "['C00006', 'C00007']"
      ]
     },
     "execution_count": 3,
     "metadata": {},
     "output_type": "execute_result"
    }
   ],
   "source": [
    "# Create a list with the 5th and 6th customers\n",
    "fifth_sixth = customer_list[4:6]\n",
    "\n",
    "fifth_sixth"
   ]
  },
  {
   "cell_type": "code",
   "execution_count": 4,
   "id": "101de0ed",
   "metadata": {},
   "outputs": [
    {
     "data": {
      "text/plain": [
       "['C00001', 'C00005', 'C00018', 'C00014', 'C00029']"
      ]
     },
     "execution_count": 4,
     "metadata": {},
     "output_type": "execute_result"
    }
   ],
   "source": [
    "# Create a list with every_third customer\n",
    "every_third = customer_list[::3]\n",
    "\n",
    "every_third"
   ]
  },
  {
   "cell_type": "code",
   "execution_count": 5,
   "id": "36257b98",
   "metadata": {},
   "outputs": [
    {
     "data": {
      "text/plain": [
       "['C00016', 'C00029']"
      ]
     },
     "execution_count": 5,
     "metadata": {},
     "output_type": "execute_result"
    }
   ],
   "source": [
    "# Create a list with the last two customers\n",
    "\n",
    "last_two = customer_list[-2:]\n",
    "\n",
    "last_two"
   ]
  },
  {
   "cell_type": "markdown",
   "id": "abd8a604",
   "metadata": {},
   "source": [
    "#### Assignment: Adding List Elements"
   ]
  },
  {
   "cell_type": "code",
   "execution_count": 6,
   "id": "12ae2cc0",
   "metadata": {},
   "outputs": [],
   "source": [
    "# Create Customer List\n",
    "customer_list = [\n",
    "    'C00001', 'C00003', 'C00004', 'C00005', 'C00006',\n",
    "    'C00007', 'C00008', 'C00010', 'C00013', 'C00014',\n",
    "    'C00015', 'C00016', 'C00020'\n",
    "]"
   ]
  },
  {
   "cell_type": "code",
   "execution_count": 7,
   "id": "d95aaa14",
   "metadata": {},
   "outputs": [
    {
     "data": {
      "text/plain": [
       "['C00001',\n",
       " 'C00003',\n",
       " 'C00004',\n",
       " 'C00005',\n",
       " 'C00006',\n",
       " 'C00007',\n",
       " 'C00008',\n",
       " 'C00010',\n",
       " 'C00013',\n",
       " 'C00014',\n",
       " 'C00015',\n",
       " 'C00016',\n",
       " 'C00020',\n",
       " 'C00009']"
      ]
     },
     "execution_count": 7,
     "metadata": {},
     "output_type": "execute_result"
    }
   ],
   "source": [
    "# Add C00009 to end of list\n",
    "customer_list.append('C00009')\n",
    "\n",
    "customer_list"
   ]
  },
  {
   "cell_type": "code",
   "execution_count": 8,
   "id": "6614e278",
   "metadata": {},
   "outputs": [],
   "source": [
    "# Alternate method - don't run both or you'll have 'C00009' twice\n",
    "\n",
    "# customer_list.insert(7, 'C00009')\n",
    "\n",
    "# customer_list"
   ]
  },
  {
   "cell_type": "code",
   "execution_count": 9,
   "id": "a283cfe1",
   "metadata": {},
   "outputs": [
    {
     "data": {
      "text/plain": [
       "['C00001',\n",
       " 'C00003',\n",
       " 'C00004',\n",
       " 'C00005',\n",
       " 'C00006',\n",
       " 'C00007',\n",
       " 'C00008',\n",
       " 'C00010',\n",
       " 'C00013',\n",
       " 'C00014',\n",
       " 'C00015',\n",
       " 'C00016',\n",
       " 'C00020',\n",
       " 'C00009',\n",
       " 'C00004',\n",
       " 'C00017',\n",
       " 'C00019',\n",
       " 'C00002',\n",
       " 'C00008',\n",
       " 'C00021',\n",
       " 'C00022']"
      ]
     },
     "execution_count": 9,
     "metadata": {},
     "output_type": "execute_result"
    }
   ],
   "source": [
    "saturday_list = [\n",
    "    'C00004', 'C00017', 'C00019', 'C00002', 'C00008',\n",
    "    'C00021', 'C00022'\n",
    "]\n",
    "\n",
    "customer_list = customer_list + saturday_list\n",
    "\n",
    "customer_list"
   ]
  },
  {
   "cell_type": "markdown",
   "id": "ee28f46a",
   "metadata": {},
   "source": [
    "#### Assignment: Removing List Elements"
   ]
  },
  {
   "cell_type": "code",
   "execution_count": 10,
   "id": "46efd22c",
   "metadata": {},
   "outputs": [],
   "source": [
    "# Full Customer List Below\n",
    "customer_list = [\n",
    "    'C00001', 'C00003', 'C00004', 'C00005', 'C00006',\n",
    "    'C00007', 'C00008', 'C00009', 'C00010', 'C00013',\n",
    "    'C00014', 'C00015', 'C00016', 'C00020', 'C00004',\n",
    "    'C00017', 'C00019', 'C00002', 'C00008', 'C00021',\n",
    "    'C00022'\n",
    "]"
   ]
  },
  {
   "cell_type": "code",
   "execution_count": 11,
   "id": "0e7ffbb5",
   "metadata": {},
   "outputs": [
    {
     "data": {
      "text/plain": [
       "['C00001',\n",
       " 'C00003',\n",
       " 'C00004',\n",
       " 'C00005',\n",
       " 'C00006',\n",
       " 'C00007',\n",
       " 'C00008',\n",
       " 'C00009',\n",
       " 'C00010',\n",
       " 'C00013',\n",
       " 'C00014',\n",
       " 'C00015',\n",
       " 'C00016',\n",
       " 'C00020']"
      ]
     },
     "execution_count": 11,
     "metadata": {},
     "output_type": "execute_result"
    }
   ],
   "source": [
    "# del to delete the slice\n",
    "del customer_list[-7:]\n",
    "\n",
    "customer_list"
   ]
  },
  {
   "cell_type": "code",
   "execution_count": 12,
   "id": "76cb7b47",
   "metadata": {},
   "outputs": [
    {
     "data": {
      "text/plain": [
       "['C00001',\n",
       " 'C00003',\n",
       " 'C00005',\n",
       " 'C00006',\n",
       " 'C00007',\n",
       " 'C00008',\n",
       " 'C00009',\n",
       " 'C00010',\n",
       " 'C00013',\n",
       " 'C00014',\n",
       " 'C00015',\n",
       " 'C00016',\n",
       " 'C00020']"
      ]
     },
     "execution_count": 12,
     "metadata": {},
     "output_type": "execute_result"
    }
   ],
   "source": [
    "# Remove Customer 'C00004'\n",
    "customer_list.remove('C00004')\n",
    "\n",
    "customer_list"
   ]
  },
  {
   "cell_type": "markdown",
   "id": "12b3b04e",
   "metadata": {},
   "source": [
    "#### Assignment: List Functions & Methods"
   ]
  },
  {
   "cell_type": "code",
   "execution_count": 13,
   "id": "9f32d984",
   "metadata": {},
   "outputs": [],
   "source": [
    "customer_ids = [\n",
    "    'C00004', 'C00007', 'C00015', 'C00016', 'C00020',\n",
    "    'C00010', 'C00006', 'C00001', 'C00003', 'C00014',\n",
    "    'C00001', 'C00001', 'C00005', 'C00008', 'C00013',\n",
    "    'C00004', 'C00017', 'C00019', 'C00002', 'C00008',\n",
    "    'C00021', 'C00022', 'C00006', 'C00018', 'C00018',\n",
    "    'C00010', 'C00016'\n",
    "]\n",
    "\n",
    "subtotals = [\n",
    "    15.98, 899.97, 799.97, 117.96, 5.99,\n",
    "    599.99, 24.99, 1799.94, 99.99, 254.95,\n",
    "    29.98, 99.99, 25.98, 649.98, 89.99,\n",
    "    119.99, 599.99, 649.98, 24.99, 99.99,\n",
    "    99.99, 5.99, 24.99, 999.96, 99.99,\n",
    "    399.97, 89.99\n",
    "]"
   ]
  },
  {
   "cell_type": "code",
   "execution_count": 14,
   "id": "cc5f0574",
   "metadata": {},
   "outputs": [
    {
     "data": {
      "text/plain": [
       "323.39"
      ]
     },
     "execution_count": 14,
     "metadata": {},
     "output_type": "execute_result"
    }
   ],
   "source": [
    "# Calculate Average Transaction - sum(list)/len(list)\n",
    "# is one way to get this without external functions\n",
    "\n",
    "round(sum(subtotals)/len(subtotals), 2)"
   ]
  },
  {
   "cell_type": "code",
   "execution_count": 15,
   "id": "0a9ab4c8",
   "metadata": {},
   "outputs": [
    {
     "data": {
      "text/plain": [
       "2"
      ]
     },
     "execution_count": 15,
     "metadata": {},
     "output_type": "execute_result"
    }
   ],
   "source": [
    "# count number of transactions made by C00010, use the count method\n",
    "customer_ids.count('C00010')"
   ]
  },
  {
   "cell_type": "code",
   "execution_count": 16,
   "id": "20472c1e",
   "metadata": {},
   "outputs": [
    {
     "data": {
      "text/plain": [
       "5"
      ]
     },
     "execution_count": 16,
     "metadata": {},
     "output_type": "execute_result"
    }
   ],
   "source": [
    "# Index of customer C00010's first transaction - use index method\n",
    "customer_ids.index('C00010')"
   ]
  },
  {
   "cell_type": "code",
   "execution_count": 17,
   "id": "f1dbada7",
   "metadata": {},
   "outputs": [
    {
     "data": {
      "text/plain": [
       "599.99"
      ]
     },
     "execution_count": 17,
     "metadata": {},
     "output_type": "execute_result"
    }
   ],
   "source": [
    "# Look up index returned from question above in subtotals list\n",
    "subtotals[customer_ids.index('C00010')]"
   ]
  },
  {
   "cell_type": "code",
   "execution_count": 18,
   "id": "0885b0ab",
   "metadata": {},
   "outputs": [
    {
     "name": "stdout",
     "output_type": "stream",
     "text": [
      "['C00001', 'C00001', 'C00001', 'C00002', 'C00003', 'C00004', 'C00004', 'C00005', 'C00006', 'C00006', 'C00007', 'C00008', 'C00008', 'C00010', 'C00010', 'C00013', 'C00014', 'C00015', 'C00016', 'C00016', 'C00017', 'C00018', 'C00018', 'C00019', 'C00020', 'C00021', 'C00022']\n"
     ]
    }
   ],
   "source": [
    "# Print sorted version of customer_ids\n",
    "# use sorted() function to avoid changing list\n",
    "print(sorted(customer_ids))"
   ]
  },
  {
   "cell_type": "markdown",
   "id": "d9057634",
   "metadata": {},
   "source": [
    "#### Assignment: Nested Lists & Copying"
   ]
  },
  {
   "cell_type": "code",
   "execution_count": 2,
   "id": "87e11baf",
   "metadata": {},
   "outputs": [
    {
     "data": {
      "text/plain": [
       "[[1799.94, 29.98, 99.99],\n",
       " [15.98, 119.99],\n",
       " [24.99, 24.99],\n",
       " [649.99, 99.99],\n",
       " [599.99, 399.97]]"
      ]
     },
     "execution_count": 2,
     "metadata": {},
     "output_type": "execute_result"
    }
   ],
   "source": [
    "orders_c00001 = [1799.94, 29.98, 99.99]\n",
    "orders_c00004 = [15.98, 119.99]\n",
    "orders_c00006 = [24.99, 24.99]\n",
    "orders_c00008 = [649.99, 99.99]\n",
    "orders_c00010 = [599.99, 399.97]\n",
    "\n",
    "\n",
    "\n",
    "# Create Nested List\n",
    "vip_list = [\n",
    "    orders_c00001,\n",
    "    orders_c00004,\n",
    "    orders_c00006,\n",
    "    orders_c00008,\n",
    "    orders_c00010\n",
    "]\n",
    "\n",
    "vip_list"
   ]
  },
  {
   "cell_type": "code",
   "execution_count": 21,
   "id": "be582940",
   "metadata": {},
   "outputs": [
    {
     "data": {
      "text/plain": [
       "[29.98, 99.99]"
      ]
     },
     "execution_count": 21,
     "metadata": {},
     "output_type": "execute_result"
    }
   ],
   "source": [
    "# Report second and third transactions for C00001\n",
    "\n",
    "vip_list[0][1:]"
   ]
  },
  {
   "cell_type": "code",
   "execution_count": 22,
   "id": "d496e968",
   "metadata": {},
   "outputs": [],
   "source": [
    "# the .copy() method allows us to change an entire nested list\n",
    "# without changing the original. Deepcopy works too,\n",
    "# but is an extra layer of separation we don't need for this use case\n",
    "\n",
    "revenue_adjusted_list = vip_list.copy()"
   ]
  },
  {
   "cell_type": "code",
   "execution_count": 23,
   "id": "f53770e0",
   "metadata": {},
   "outputs": [
    {
     "data": {
      "text/plain": [
       "[[1799.94, 29.98, 99.99],\n",
       " [0.0, 0.0],\n",
       " [24.99, 24.99],\n",
       " [649.99, 99.99],\n",
       " [599.99, 399.97]]"
      ]
     },
     "execution_count": 23,
     "metadata": {},
     "output_type": "execute_result"
    }
   ],
   "source": [
    "# Change both of customer C00004's transactions to 0.0\n",
    "\n",
    "revenue_adjusted_list[1] = [0.0, 0.0]\n",
    "\n",
    "revenue_adjusted_list"
   ]
  },
  {
   "cell_type": "code",
   "execution_count": 24,
   "id": "c011e51d",
   "metadata": {},
   "outputs": [
    {
     "data": {
      "text/plain": [
       "[[1799.94, 29.98, 99.99],\n",
       " [15.98, 119.99],\n",
       " [24.99, 24.99],\n",
       " [649.99, 99.99],\n",
       " [599.99, 399.97]]"
      ]
     },
     "execution_count": 24,
     "metadata": {},
     "output_type": "execute_result"
    }
   ],
   "source": [
    "# Our original list should be unchanged\n",
    "\n",
    "vip_list"
   ]
  },
  {
   "cell_type": "markdown",
   "id": "bba33482",
   "metadata": {},
   "source": [
    "#### Assignment: Tuples"
   ]
  },
  {
   "cell_type": "code",
   "execution_count": 25,
   "id": "2d6c742c",
   "metadata": {},
   "outputs": [],
   "source": [
    "# Recreate multi_order_customers\n",
    "\n",
    "multi_order_customers = [\n",
    "    [1799.94, 29.98, 99.99],\n",
    "    [15.98, 119.99],\n",
    "    [24.99, 24.99],\n",
    "    [649.99, 99.99],\n",
    "    [599.99, 399.97]\n",
    "]"
   ]
  },
  {
   "cell_type": "code",
   "execution_count": 26,
   "id": "b5edf1d0",
   "metadata": {},
   "outputs": [
    {
     "name": "stdout",
     "output_type": "stream",
     "text": [
      "144.0\n",
      "2.4\n",
      "8.0\n"
     ]
    }
   ],
   "source": [
    "# Unpack tuple created from first nested list in multi_order_customers\n",
    "# into transaction1, transaction2, transaction3\n",
    "\n",
    "transaction1, transaction2, transaction3 = tuple(multi_order_customers[0])\n",
    "\n",
    "# Print rounded sales tax for each transaction\n",
    "print(round(transaction1 * .08, 2))\n",
    "print(round(transaction2 * .08, 2))\n",
    "print(round(transaction3 * .08, 2))"
   ]
  },
  {
   "cell_type": "markdown",
   "id": "38c8a963",
   "metadata": {},
   "source": [
    "#### Assignment: Ranges"
   ]
  },
  {
   "cell_type": "code",
   "execution_count": 27,
   "id": "9ee74fb3",
   "metadata": {},
   "outputs": [
    {
     "name": "stdout",
     "output_type": "stream",
     "text": [
      "[2, 4, 6, 8, 10]\n"
     ]
    }
   ],
   "source": [
    "print(list(range(2, 12, 2)))"
   ]
  },
  {
   "cell_type": "code",
   "execution_count": 28,
   "id": "140b8213",
   "metadata": {},
   "outputs": [
    {
     "name": "stdout",
     "output_type": "stream",
     "text": [
      "[1, 3, 5, 7, 9]\n"
     ]
    }
   ],
   "source": [
    "print(list(range(1, 11, 2)))"
   ]
  },
  {
   "cell_type": "code",
   "execution_count": 29,
   "id": "627590c9",
   "metadata": {},
   "outputs": [
    {
     "name": "stdout",
     "output_type": "stream",
     "text": [
      "[7, 14, 21, 28, 35, 42, 49, 56, 63, 70, 77, 84, 91, 98]\n"
     ]
    }
   ],
   "source": [
    "print(list(range(7, 100, 7)))"
   ]
  }
 ],
 "metadata": {
  "kernelspec": {
   "display_name": "Python 3 (ipykernel)",
   "language": "python",
   "name": "python3"
  },
  "language_info": {
   "codemirror_mode": {
    "name": "ipython",
    "version": 3
   },
   "file_extension": ".py",
   "mimetype": "text/x-python",
   "name": "python",
   "nbconvert_exporter": "python",
   "pygments_lexer": "ipython3",
   "version": "3.9.7"
  }
 },
 "nbformat": 4,
 "nbformat_minor": 5
}
