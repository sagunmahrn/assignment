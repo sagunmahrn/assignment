{
 "cells": [
  {
   "cell_type": "markdown",
   "id": "98528539",
   "metadata": {},
   "source": [
    "#### Assignment: Boolean Operators"
   ]
  },
  {
   "cell_type": "code",
   "execution_count": null,
   "id": "84608996",
   "metadata": {},
   "outputs": [],
   "source": [
    "# set inventory_count to 5 as test value\n",
    "\n",
    "inventory_count = 5"
   ]
  },
  {
   "cell_type": "code",
   "execution_count": null,
   "id": "b52b26a9",
   "metadata": {},
   "outputs": [],
   "source": [
    "# Check if inventory is 0\n",
    "\n",
    "inventory_count == 0"
   ]
  },
  {
   "cell_type": "code",
   "execution_count": null,
   "id": "c25552ba",
   "metadata": {},
   "outputs": [],
   "source": [
    "# Check if inventory is greater than 5\n",
    "\n",
    "inventory_count > 5"
   ]
  },
  {
   "cell_type": "code",
   "execution_count": null,
   "id": "f9012c26",
   "metadata": {},
   "outputs": [],
   "source": [
    "# Return 0.0 if inventory is not greater than 5, otherwise return 99.99\n",
    "\n",
    "(inventory_count > 5) * 99.99"
   ]
  },
  {
   "cell_type": "code",
   "execution_count": null,
   "id": "192d24a6",
   "metadata": {},
   "outputs": [],
   "source": [
    "# Return True if Price < 100 and inventory > 0\n",
    "\n",
    "price = 99.99\n",
    "\n",
    "inventory_count > 0 and price < 100"
   ]
  },
  {
   "cell_type": "code",
   "execution_count": null,
   "id": "b4c16fc4",
   "metadata": {},
   "outputs": [],
   "source": [
    "# Return False if inventory isn't greater than 0\n",
    "# Unless product is super_snowboard and customer_name is Chris\n",
    "\n",
    "customer_name = 'Barry'\n",
    "inventory_count = 0\n",
    "product = 'super_snowboard'\n",
    "\n",
    "inventory_count > 0 or (customer_name == 'Chris'\n",
    "                        and product == 'super_snowboard')"
   ]
  },
  {
   "cell_type": "markdown",
   "id": "0c5dc438",
   "metadata": {},
   "source": [
    "#### Assignment: Control Flow"
   ]
  },
  {
   "cell_type": "code",
   "execution_count": null,
   "id": "cfcf698e",
   "metadata": {},
   "outputs": [],
   "source": [
    "inventory = 3\n",
    "\n",
    "if inventory <= 0:\n",
    "    print('Out of Stock')\n",
    "elif inventory <= 5:\n",
    "    print('Low Stock')\n",
    "else:\n",
    "    print('In Stock')"
   ]
  },
  {
   "cell_type": "markdown",
   "id": "ccb5a6bf",
   "metadata": {},
   "source": [
    "#### Assignment: Nested If Statement "
   ]
  },
  {
   "cell_type": "code",
   "execution_count": null,
   "id": "aa4cfe30",
   "metadata": {},
   "outputs": [],
   "source": [
    "# With Nested Logic\n",
    "inventory = 0\n",
    "customer_name = 'Chris'\n",
    "\n",
    "\n",
    "if inventory <= 0:\n",
    "    if customer_name == 'Chris':\n",
    "        print('You can have the display model, sir')\n",
    "    else:\n",
    "        print('Out of stock')\n",
    "elif inventory <= 5:\n",
    "    print('Low Stock')\n",
    "else:\n",
    "    print('In Stock')"
   ]
  },
  {
   "cell_type": "code",
   "execution_count": null,
   "id": "47ea10a5",
   "metadata": {},
   "outputs": [],
   "source": [
    "# Without Nested Logic\n",
    "inventory = 0\n",
    "customer_name = 'Chris'\n",
    "\n",
    "if customer_name == 'Chris' and inventory <= 0:\n",
    "    print('I can sell you the display model, sir.')\n",
    "elif inventory <= 0:\n",
    "    print('Out of stock')\n",
    "elif inventory <= 5:\n",
    "    print('Low Stock')\n",
    "else:\n",
    "    print('In Stock')"
   ]
  },
  {
   "cell_type": "code",
   "execution_count": null,
   "id": "120362d7",
   "metadata": {},
   "outputs": [],
   "source": []
  }
 ],
 "metadata": {
  "kernelspec": {
   "display_name": "Python 3 (ipykernel)",
   "language": "python",
   "name": "python3"
  },
  "language_info": {
   "codemirror_mode": {
    "name": "ipython",
    "version": 3
   },
   "file_extension": ".py",
   "mimetype": "text/x-python",
   "name": "python",
   "nbconvert_exporter": "python",
   "pygments_lexer": "ipython3",
   "version": "3.9.7"
  }
 },
 "nbformat": 4,
 "nbformat_minor": 5
}
