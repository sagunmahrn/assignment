{
 "cells": [
  {
   "cell_type": "code",
   "execution_count": 5,
   "metadata": {},
   "outputs": [
    {
     "name": "stdout",
     "output_type": "stream",
     "text": [
      "Variable          Type    Data/Info\n",
      "-----------------------------------\n",
      "price_list_2018   list    n=5\n",
      "price_list_2019   list    n=5\n",
      "price_list_2020   list    n=5\n"
     ]
    }
   ],
   "source": [
    "price_list_2018 = [4.99, 8.99, 17.99, 22.99, 94.99]\n",
    "price_list_2019 = [5.99, 9.99, 19.99, 24.99, 99.99]\n",
    "price_list_2020 = [6.49, 10.49, 19.99, 26.99, 104.99]\n",
    "%whos"
   ]
  }
 ],
 "metadata": {
  "kernelspec": {
   "display_name": "Python 3",
   "language": "python",
   "name": "python3"
  },
  "language_info": {
   "codemirror_mode": {
    "name": "ipython",
    "version": 3
   },
   "file_extension": ".py",
   "mimetype": "text/x-python",
   "name": "python",
   "nbconvert_exporter": "python",
   "pygments_lexer": "ipython3",
   "version": "3.10.7"
  },
  "orig_nbformat": 4
 },
 "nbformat": 4,
 "nbformat_minor": 2
}
