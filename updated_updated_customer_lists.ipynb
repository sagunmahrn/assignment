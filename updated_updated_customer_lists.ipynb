{
 "cells": [
  {
   "attachments": {},
   "cell_type": "markdown",
   "id": "ae2f2fd5",
   "metadata": {},
   "source": [
    "### Updated Customer Lists (Final Update)\n",
    "\n",
    "We now need to remove the Saturday customers from the list. \n",
    "\n",
    "I've included the full `customer_list` below.\n",
    "\n",
    "The Saturday customers are the final seven customers in `customer_list`. "
   ]
  },
  {
   "cell_type": "code",
   "execution_count": 1,
   "id": "b0c0e5cd",
   "metadata": {},
   "outputs": [],
   "source": [
    "# run this cell to create the list\n",
    "customer_list = [\n",
    "    'C00001', 'C00003', 'C00004', 'C00005', 'C00006',\n",
    "    'C00007', 'C00008', 'C00009', 'C00010', 'C00013', \n",
    "    'C00014', 'C00015', 'C00016', 'C00020', 'C00004', \n",
    "    'C00017', 'C00019', 'C00002', 'C00008', 'C00021',\n",
    "    'C00022'\n",
    "]\n"
   ]
  },
  {
   "cell_type": "code",
   "execution_count": 2,
   "id": "2ce71f62",
   "metadata": {},
   "outputs": [],
   "source": [
    "del customer_list[-7::]"
   ]
  },
  {
   "attachments": {},
   "cell_type": "markdown",
   "id": "343fab8c",
   "metadata": {},
   "source": [
    "### Delete a friend\n",
    "\n",
    "Please remove customer 'C00004' from the reduced list you just created. This is a friend of the owner and shouldn't be recorded as a sale."
   ]
  },
  {
   "cell_type": "code",
   "execution_count": 4,
   "id": "d796c0bb",
   "metadata": {},
   "outputs": [
    {
     "data": {
      "text/plain": [
       "['C00001',\n",
       " 'C00003',\n",
       " 'C00005',\n",
       " 'C00006',\n",
       " 'C00007',\n",
       " 'C00008',\n",
       " 'C00009',\n",
       " 'C00010',\n",
       " 'C00013',\n",
       " 'C00014',\n",
       " 'C00015',\n",
       " 'C00016',\n",
       " 'C00020']"
      ]
     },
     "execution_count": 4,
     "metadata": {},
     "output_type": "execute_result"
    }
   ],
   "source": [
    "customer_list.remove('C00004')\n",
    "customer_list"
   ]
  }
 ],
 "metadata": {
  "kernelspec": {
   "display_name": "Python 3 (ipykernel)",
   "language": "python",
   "name": "python3"
  },
  "language_info": {
   "codemirror_mode": {
    "name": "ipython",
    "version": 3
   },
   "file_extension": ".py",
   "mimetype": "text/x-python",
   "name": "python",
   "nbconvert_exporter": "python",
   "pygments_lexer": "ipython3",
   "version": "3.10.7"
  }
 },
 "nbformat": 4,
 "nbformat_minor": 5
}
