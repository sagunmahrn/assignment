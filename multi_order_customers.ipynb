{
 "cells": [
  {
   "attachments": {},
   "cell_type": "markdown",
   "id": "7479ed4d",
   "metadata": {},
   "source": [
    "### Multi Order Customers\n",
    "\n",
    "We want to understand our multi order customers. \n",
    "\n",
    "Below are lists of transactions made by our companies that made multiple orders this weekend."
   ]
  },
  {
   "cell_type": "code",
   "execution_count": 2,
   "id": "e045ab30",
   "metadata": {},
   "outputs": [],
   "source": [
    "orders_c00001 = [1799.94, 29.98, 99.99]\n",
    "orders_c00004 = [15.98, 119.99]\n",
    "orders_c00006 = [24.99, 24.99]\n",
    "orders_c00008 = [649.99, 99.99]\n",
    "orders_c00010 = [599.99, 399.97]"
   ]
  },
  {
   "attachments": {},
   "cell_type": "markdown",
   "id": "44c77fb9",
   "metadata": {},
   "source": [
    "### VIP List \n",
    "\n",
    "Create a nested list where each element is one of the customer transaction lists above, called `vip_list`\n"
   ]
  },
  {
   "cell_type": "code",
   "execution_count": 3,
   "id": "72b9a349",
   "metadata": {},
   "outputs": [],
   "source": [
    "vip_list = [orders_c00001 , orders_c00004 , orders_c00006 , orders_c00008 ,orders_c00010]"
   ]
  },
  {
   "attachments": {},
   "cell_type": "markdown",
   "id": "90f70596",
   "metadata": {},
   "source": [
    "Some of us are curious about customer C00001, given that they made three transactions.\n",
    "\n",
    "Report the second and third transactions they made."
   ]
  },
  {
   "cell_type": "code",
   "execution_count": 8,
   "id": "4575ca89",
   "metadata": {},
   "outputs": [
    {
     "data": {
      "text/plain": [
       "[29.98, 99.99]"
      ]
     },
     "execution_count": 8,
     "metadata": {},
     "output_type": "execute_result"
    }
   ],
   "source": [
    "vip_list[0][1:]"
   ]
  },
  {
   "attachments": {},
   "cell_type": "markdown",
   "id": "ff092068",
   "metadata": {},
   "source": [
    "### Revenue Adjusted List\n",
    "\n",
    "We need to make a copy of our `vip_list`. We need to change an entire list inside that we DON'T want reflected in `vip_list`. \n",
    "\n",
    "Call the copy `revenue_adjusted_list`."
   ]
  },
  {
   "cell_type": "code",
   "execution_count": 9,
   "id": "6bedc2ed",
   "metadata": {},
   "outputs": [],
   "source": [
    "revenue_adjusted_list = vip_list.copy()"
   ]
  },
  {
   "attachments": {},
   "cell_type": "markdown",
   "id": "67e732a6",
   "metadata": {},
   "source": [
    "Once you have your copy, change both of customer C00004's transaction values to 0.0.\n",
    "\n",
    "These were gifts and shouldn't be recorded as revenue. Make sure to confirm `vip_list` hasn't changed!"
   ]
  },
  {
   "cell_type": "code",
   "execution_count": 12,
   "id": "4a3aecc3",
   "metadata": {},
   "outputs": [
    {
     "data": {
      "text/plain": [
       "[[1799.94, 29.98, 99.99],\n",
       " [15.98, 119.99],\n",
       " [0.0, 0.0],\n",
       " [649.99, 99.99],\n",
       " [599.99, 399.97]]"
      ]
     },
     "execution_count": 12,
     "metadata": {},
     "output_type": "execute_result"
    }
   ],
   "source": [
    "revenue_adjusted_list[2] = [0.0,0.0]\n",
    "revenue_adjusted_list"
   ]
  },
  {
   "cell_type": "code",
   "execution_count": 11,
   "id": "09640567",
   "metadata": {},
   "outputs": [
    {
     "data": {
      "text/plain": [
       "[[1799.94, 29.98, 99.99],\n",
       " [15.98, 119.99],\n",
       " [24.99, 24.99],\n",
       " [649.99, 99.99],\n",
       " [599.99, 399.97]]"
      ]
     },
     "execution_count": 11,
     "metadata": {},
     "output_type": "execute_result"
    }
   ],
   "source": [
    "# our original list should be unchanged\n",
    "vip_list"
   ]
  },
  {
   "cell_type": "code",
   "execution_count": null,
   "id": "00182b46",
   "metadata": {},
   "outputs": [],
   "source": []
  }
 ],
 "metadata": {
  "kernelspec": {
   "display_name": "Python 3 (ipykernel)",
   "language": "python",
   "name": "python3"
  },
  "language_info": {
   "codemirror_mode": {
    "name": "ipython",
    "version": 3
   },
   "file_extension": ".py",
   "mimetype": "text/x-python",
   "name": "python",
   "nbconvert_exporter": "python",
   "pygments_lexer": "ipython3",
   "version": "3.9.7"
  }
 },
 "nbformat": 4,
 "nbformat_minor": 5
}
