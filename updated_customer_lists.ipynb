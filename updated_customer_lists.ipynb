{
 "cells": [
  {
   "attachments": {},
   "cell_type": "markdown",
   "id": "80f78a5d",
   "metadata": {},
   "source": [
    "### Updated Customer Lists\n",
    "\n",
    "Hi there, we need to add customer 'C00009' to `customer_list`, we just found their receipt in the warehouse.\n",
    "\n",
    "I've included the original `customer_list` below."
   ]
  },
  {
   "cell_type": "code",
   "execution_count": 2,
   "id": "ae8b954c",
   "metadata": {},
   "outputs": [],
   "source": [
    "customer_list = [\n",
    "    'C00001', 'C00003', 'C00004','C00005', 'C00006', \n",
    "    'C00007', 'C00008', 'C00010', 'C00013', 'C00014', \n",
    "    'C00015', 'C00016', 'C00020'\n",
    "]"
   ]
  },
  {
   "cell_type": "code",
   "execution_count": 9,
   "id": "325d8278",
   "metadata": {},
   "outputs": [
    {
     "data": {
      "text/plain": [
       "['C00001',\n",
       " 'C00003',\n",
       " 'C00004',\n",
       " 'C00005',\n",
       " 'C00006',\n",
       " 'C00007',\n",
       " 'C00008',\n",
       " 'C00009',\n",
       " 'C00009',\n",
       " 'C00009',\n",
       " 'C00009',\n",
       " 'C00010',\n",
       " 'C00013',\n",
       " 'C00014',\n",
       " 'C00015',\n",
       " 'C00016',\n",
       " 'C00020',\n",
       " 'C00009',\n",
       " 'C00009',\n",
       " 'C00009',\n",
       " 'C00009',\n",
       " 'C00009']"
      ]
     },
     "execution_count": 9,
     "metadata": {},
     "output_type": "execute_result"
    }
   ],
   "source": [
    "customer_list.append('C00009')\n",
    "customer_list"
   ]
  },
  {
   "cell_type": "code",
   "execution_count": 10,
   "id": "601b5dda",
   "metadata": {},
   "outputs": [],
   "source": [
    "customer_list.insert(7,'C00009')"
   ]
  },
  {
   "attachments": {},
   "cell_type": "markdown",
   "id": "dd19810a",
   "metadata": {},
   "source": [
    "### Adding Saturday Customers\n",
    "\n",
    "Add the customers from `saturday_list` to `customer_list` below."
   ]
  },
  {
   "cell_type": "code",
   "execution_count": 15,
   "id": "f2fd414a",
   "metadata": {},
   "outputs": [],
   "source": [
    "saturday_list = [\n",
    "    'C00004', 'C00017', 'C00019', 'C00002', 'C00008',\n",
    "    'C00021', 'C00022'\n",
    "]"
   ]
  },
  {
   "cell_type": "code",
   "execution_count": 16,
   "id": "ed0b3c31",
   "metadata": {},
   "outputs": [
    {
     "data": {
      "text/plain": [
       "['C00001',\n",
       " 'C00003',\n",
       " 'C00004',\n",
       " 'C00005',\n",
       " 'C00006',\n",
       " 'C00007',\n",
       " 'C00008',\n",
       " 'C00009',\n",
       " 'C00009',\n",
       " 'C00009',\n",
       " 'C00009',\n",
       " 'C00009',\n",
       " 'C00010',\n",
       " 'C00013',\n",
       " 'C00014',\n",
       " 'C00015',\n",
       " 'C00016',\n",
       " 'C00020',\n",
       " 'C00009',\n",
       " 'C00009',\n",
       " 'C00009',\n",
       " 'C00009',\n",
       " 'C00009',\n",
       " 'C00004',\n",
       " 'C00017',\n",
       " 'C00019',\n",
       " 'C00002',\n",
       " 'C00008',\n",
       " 'C00021',\n",
       " 'C00022']"
      ]
     },
     "execution_count": 16,
     "metadata": {},
     "output_type": "execute_result"
    }
   ],
   "source": [
    "customer_list =  customer_list + saturday_list\n",
    "customer_list"
   ]
  }
 ],
 "metadata": {
  "kernelspec": {
   "display_name": "Python 3 (ipykernel)",
   "language": "python",
   "name": "python3"
  },
  "language_info": {
   "codemirror_mode": {
    "name": "ipython",
    "version": 3
   },
   "file_extension": ".py",
   "mimetype": "text/x-python",
   "name": "python",
   "nbconvert_exporter": "python",
   "pygments_lexer": "ipython3",
   "version": "3.10.7"
  }
 },
 "nbformat": 4,
 "nbformat_minor": 5
}
