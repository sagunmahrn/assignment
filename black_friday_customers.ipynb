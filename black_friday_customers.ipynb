{
 "cells": [
  {
   "attachments": {},
   "cell_type": "markdown",
   "id": "94e7c134",
   "metadata": {},
   "source": [
    "### Create a List the customers that made purchases on black friday\n",
    "\n",
    "The customers that made purchases on Black Friday were:\n",
    "\n",
    "C00001, C00003, C00004, C00005 C00006, C00007, C00018, C00010, C00013, C00014, C00015, C00016 and C00029\n",
    "\n",
    "Call your list `customer_list`."
   ]
  },
  {
   "cell_type": "code",
   "execution_count": 1,
   "id": "8cadc495",
   "metadata": {},
   "outputs": [],
   "source": [
    "customer_list=['C00001', 'C00003', 'C00004', 'C00005',' C00006', 'C00007', 'C00018', 'C00010', 'C00013', 'C00014', 'C00015', 'C00016', 'C00029']"
   ]
  },
  {
   "attachments": {},
   "cell_type": "markdown",
   "id": "b5489e0a",
   "metadata": {},
   "source": [
    "### Did C00009 make a purchase?\n",
    "\n",
    "This customer said they made a purchase we're not seeing it in our data. If they did, we need to record the revenue.\n",
    "\n",
    "Write code that returns 99.99 if C00009 is in the list. If not, return 0.0."
   ]
  },
  {
   "cell_type": "code",
   "execution_count": 3,
   "id": "240e3813",
   "metadata": {},
   "outputs": [
    {
     "data": {
      "text/plain": [
       "0.0"
      ]
     },
     "execution_count": 3,
     "metadata": {},
     "output_type": "execute_result"
    }
   ],
   "source": [
    "('C00009'in customer_list) * 99.99"
   ]
  },
  {
   "attachments": {},
   "cell_type": "markdown",
   "id": "779dc47b",
   "metadata": {},
   "source": [
    "### Market Research Samples\n",
    "\n",
    "1. Using slicing, create a list containing the fifth and sixth customer in the list called `fifth_sixth`.\n"
   ]
  },
  {
   "cell_type": "code",
   "execution_count": 5,
   "id": "4cb5a882",
   "metadata": {},
   "outputs": [
    {
     "data": {
      "text/plain": [
       "[' C00006', 'C00007']"
      ]
     },
     "execution_count": 5,
     "metadata": {},
     "output_type": "execute_result"
    }
   ],
   "source": [
    "fifth_sixth = customer_list[4:6]\n",
    "fifth_sixth"
   ]
  },
  {
   "attachments": {},
   "cell_type": "markdown",
   "id": "846b6822",
   "metadata": {},
   "source": [
    "2. Create a list called `every_third` that contains every third customer in the list (1st, 4rd, 7th, and so on...)."
   ]
  },
  {
   "cell_type": "code",
   "execution_count": 6,
   "id": "1a4b1c1e",
   "metadata": {},
   "outputs": [
    {
     "data": {
      "text/plain": [
       "['C00001', 'C00005', 'C00018', 'C00014', 'C00029']"
      ]
     },
     "execution_count": 6,
     "metadata": {},
     "output_type": "execute_result"
    }
   ],
   "source": [
    "every_third = customer_list[::3]\n",
    "every_third"
   ]
  },
  {
   "attachments": {},
   "cell_type": "markdown",
   "id": "7747931d",
   "metadata": {},
   "source": [
    "3. Finally, using slicing, create a list with the last two customers in our dataset, called `last_two`."
   ]
  },
  {
   "cell_type": "code",
   "execution_count": 8,
   "id": "b7c6c921",
   "metadata": {},
   "outputs": [
    {
     "data": {
      "text/plain": [
       "['C00016', 'C00029']"
      ]
     },
     "execution_count": 8,
     "metadata": {},
     "output_type": "execute_result"
    }
   ],
   "source": [
    "last_two = customer_list[-2:]\n",
    "last_two"
   ]
  }
 ],
 "metadata": {
  "kernelspec": {
   "display_name": "Python 3 (ipykernel)",
   "language": "python",
   "name": "python3"
  },
  "language_info": {
   "codemirror_mode": {
    "name": "ipython",
    "version": 3
   },
   "file_extension": ".py",
   "mimetype": "text/x-python",
   "name": "python",
   "nbconvert_exporter": "python",
   "pygments_lexer": "ipython3",
   "version": "3.10.7"
  }
 },
 "nbformat": 4,
 "nbformat_minor": 5
}
