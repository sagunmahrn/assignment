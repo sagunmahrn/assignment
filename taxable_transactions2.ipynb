{
 "cells": [
  {
   "cell_type": "markdown",
   "id": "3d38e815",
   "metadata": {},
   "source": [
    "### Sales Tax by State\n",
    "\n",
    "We forgot to account for the fact that different states have different tax rates, so we need to modify our loop we just built. \n",
    "\n",
    "We have a list containing the location of each purchase. The transaction `subtotal[i]` took place at `locations[i]`.\n"
   ]
  },
  {
   "cell_type": "code",
   "execution_count": 3,
   "id": "92112278",
   "metadata": {},
   "outputs": [],
   "source": [
    "subtotals = [\n",
    "    15.98, 899.97, 799.97, 117.96, 5.99, \n",
    "    599.99, 24.99, 1799.94, 99.99\n",
    "]"
   ]
  },
  {
   "cell_type": "code",
   "execution_count": 4,
   "id": "4f7db9ff",
   "metadata": {},
   "outputs": [],
   "source": [
    "location = [\n",
    "    'Sun Valley', 'Stowe', 'Mammoth', 'Stowe', 'Sun Valley', \n",
    "    'Mammoth', 'Mammoth', 'Mammoth', 'Sun Valley'\n",
    "]"
   ]
  },
  {
   "cell_type": "markdown",
   "id": "25acb2c7",
   "metadata": {},
   "source": [
    "The following tax rates should be applied for each location:\n",
    "\n",
    "* Sun Valley: 8%\n",
    "* Stowe: 6%\n",
    "* Mammoth: 7.75%"
   ]
  },
  {
   "cell_type": "code",
   "execution_count": 9,
   "id": "ebb81a5a",
   "metadata": {},
   "outputs": [
    {
     "name": "stdout",
     "output_type": "stream",
     "text": [
      "[1.28, 54.0, 62.0, 7.08, 0.48, 46.5, 1.94, 139.5, 8.0]\n",
      "[17.26, 953.97, 861.97, 125.04, 6.47, 646.49, 26.93, 1939.44, 107.99]\n"
     ]
    }
   ],
   "source": [
    "taxes = []\n",
    "totals = []\n",
    "\n",
    "\n",
    "for i ,subtotal in enumerate(subtotals):\n",
    "    if location[i] == 'Sun Valley':\n",
    "      tax = round(subtotal * .08, 2)\n",
    "    elif location[i] == 'Stowe':\n",
    "       tax=round((subtotal *.06),2 )\n",
    "    else:\n",
    "       tax = round((subtotal*.0775),2)\n",
    "    \n",
    "    total = round(subtotal+tax,2)\n",
    "    taxes.append(tax)\n",
    "    totals.append(total)\n",
    "\n",
    "print(taxes)\n",
    "print(totals)"
   ]
  },
  {
   "cell_type": "code",
   "execution_count": null,
   "id": "1b9cdb14",
   "metadata": {},
   "outputs": [],
   "source": []
  }
 ],
 "metadata": {
  "kernelspec": {
   "display_name": "Python 3 (ipykernel)",
   "language": "python",
   "name": "python3"
  },
  "language_info": {
   "codemirror_mode": {
    "name": "ipython",
    "version": 3
   },
   "file_extension": ".py",
   "mimetype": "text/x-python",
   "name": "python",
   "nbconvert_exporter": "python",
   "pygments_lexer": "ipython3",
   "version": "3.10.7"
  }
 },
 "nbformat": 4,
 "nbformat_minor": 5
}
